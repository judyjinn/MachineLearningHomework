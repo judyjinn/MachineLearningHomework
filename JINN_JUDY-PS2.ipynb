{
 "cells": [
  {
   "cell_type": "markdown",
   "metadata": {},
   "source": [
    "# Problem Set 2, due September 18 at 11:59pm"
   ]
  },
  {
   "cell_type": "markdown",
   "metadata": {},
   "source": [
    "## Introduction to the assignment\n",
    "\n",
    "For this assignment, you will be using data from the [Progresa program](http://en.wikipedia.org/wiki/Oportunidades), a government social assistance program in Mexico. This program, as well as the details of its impact, are described in the paper \"[School subsidies for the poor: evaluating the Mexican Progresa poverty program](http://www.sciencedirect.com/science/article/pii/S0304387803001858)\", by Paul Shultz (available on bCourses). Please familiarize yourself with the PROGRESA program before beginning this problem set, so you have a rough sense of where the data come from and how they were generated. If you just proceed into the problem set without understanding Progresa or the data, it will be very difficult!\n",
    "\n",
    "The goal of this problem set is to implement some of the basic econometric techniques that you are learning in class to measure the impact of Progresa on secondary school enrollment rates. The timeline of the program was:\n",
    "\n",
    " * Baseline survey conducted in 1997\n",
    " * Intervention begins in 1998, \"Wave 1\" of data collected in 1998\n",
    " * \"Wave 2 of data\" collected in 1999\n",
    " * Evaluation ends in 2000, at which point the control villages were treated. \n",
    " \n",
    "When you are ready, download the progresa_sample.csv data from bCourses. The data are actual data collected to evaluate the impact of the Progresa program.  In this file, each row corresponds to an observation taken for a given child for a given year. There are two years of data (1997 and 1998), and just under 40,000 children who are surveyed in each year. For each child-year observation, the following variables are collected:\n",
    "\n",
    "| Variable name | Description|\n",
    "|------|------|\n",
    "|year\t  |year in which data is collected\n",
    "|sex\t  |male = 1|\n",
    "|indig\t  |indigenous = 1|\n",
    "|dist_sec |nearest distance to a secondary school|\n",
    "|sc\t      |enrolled in school in year of survey|\n",
    "|grc      |grade enrolled|\n",
    "|fam_n    |family size|\n",
    "|min_dist |\tmin distance to an urban center|\n",
    "|dist_cap |\tmin distance to the capital|\n",
    "|poor     |\tpoor = 1|\n",
    "|progresa |treatment =1|\n",
    "|hohedu\t  |years of schooling of head of household|\n",
    "|hohwag\t  |monthly wages of head of household|\n",
    "|welfare_index|\twelfare index used to classify poor|\n",
    "|hohsex\t|gender of head of household (male=1)|\n",
    "|hohage\t|age of head of household|\n",
    "|age\t|years old|\n",
    "|folnum\t|individual id|\n",
    "|village|\tvillage id|\n",
    "|sc97\t|schooling in 1997|"
   ]
  },
  {
   "cell_type": "markdown",
   "metadata": {},
   "source": [
    "---\n",
    "\n",
    "## Part 1: Descriptive analysis\n",
    "\n",
    "### 1.1\tSummary Statistics\n",
    "\n",
    "Present summary statistics (mean and standard deviation) for all of the demographic variables in the dataset (i.e., everything except year, folnum, village). Present these in a single table alphabetized by variable name. Do NOT simply expect the grader to scroll through your output!"
   ]
  },
  {
   "cell_type": "code",
   "execution_count": 225,
   "metadata": {
    "scrolled": true
   },
   "outputs": [
    {
     "data": {
      "text/html": [
       "<div>\n",
       "<style>\n",
       "    .dataframe thead tr:only-child th {\n",
       "        text-align: right;\n",
       "    }\n",
       "\n",
       "    .dataframe thead th {\n",
       "        text-align: left;\n",
       "    }\n",
       "\n",
       "    .dataframe tbody tr th {\n",
       "        vertical-align: top;\n",
       "    }\n",
       "</style>\n",
       "<table border=\"1\" class=\"dataframe\">\n",
       "  <thead>\n",
       "    <tr style=\"text-align: right;\">\n",
       "      <th></th>\n",
       "      <th>mean</th>\n",
       "      <th>std</th>\n",
       "    </tr>\n",
       "  </thead>\n",
       "  <tbody>\n",
       "    <tr>\n",
       "      <th>age</th>\n",
       "      <td>11.366</td>\n",
       "      <td>3.168</td>\n",
       "    </tr>\n",
       "    <tr>\n",
       "      <th>dist_cap</th>\n",
       "      <td>147.674</td>\n",
       "      <td>76.063</td>\n",
       "    </tr>\n",
       "    <tr>\n",
       "      <th>dist_sec</th>\n",
       "      <td>2.419</td>\n",
       "      <td>2.234</td>\n",
       "    </tr>\n",
       "    <tr>\n",
       "      <th>fam_n</th>\n",
       "      <td>7.216</td>\n",
       "      <td>2.353</td>\n",
       "    </tr>\n",
       "    <tr>\n",
       "      <th>grc</th>\n",
       "      <td>3.964</td>\n",
       "      <td>2.499</td>\n",
       "    </tr>\n",
       "    <tr>\n",
       "      <th>grc97</th>\n",
       "      <td>3.705</td>\n",
       "      <td>2.572</td>\n",
       "    </tr>\n",
       "    <tr>\n",
       "      <th>hohage</th>\n",
       "      <td>44.437</td>\n",
       "      <td>11.620</td>\n",
       "    </tr>\n",
       "    <tr>\n",
       "      <th>hohedu</th>\n",
       "      <td>2.768</td>\n",
       "      <td>2.656</td>\n",
       "    </tr>\n",
       "    <tr>\n",
       "      <th>hohsex</th>\n",
       "      <td>0.925</td>\n",
       "      <td>0.263</td>\n",
       "    </tr>\n",
       "    <tr>\n",
       "      <th>hohwag</th>\n",
       "      <td>586.985</td>\n",
       "      <td>788.134</td>\n",
       "    </tr>\n",
       "    <tr>\n",
       "      <th>indig</th>\n",
       "      <td>0.298</td>\n",
       "      <td>0.458</td>\n",
       "    </tr>\n",
       "    <tr>\n",
       "      <th>min_dist</th>\n",
       "      <td>103.448</td>\n",
       "      <td>42.089</td>\n",
       "    </tr>\n",
       "    <tr>\n",
       "      <th>sc</th>\n",
       "      <td>0.820</td>\n",
       "      <td>0.384</td>\n",
       "    </tr>\n",
       "    <tr>\n",
       "      <th>sc97</th>\n",
       "      <td>0.814</td>\n",
       "      <td>0.389</td>\n",
       "    </tr>\n",
       "    <tr>\n",
       "      <th>sex</th>\n",
       "      <td>0.512</td>\n",
       "      <td>0.500</td>\n",
       "    </tr>\n",
       "    <tr>\n",
       "      <th>welfare_index</th>\n",
       "      <td>690.347</td>\n",
       "      <td>139.491</td>\n",
       "    </tr>\n",
       "  </tbody>\n",
       "</table>\n",
       "</div>"
      ],
      "text/plain": [
       "                 mean     std\n",
       "age            11.366   3.168\n",
       "dist_cap      147.674  76.063\n",
       "dist_sec        2.419   2.234\n",
       "fam_n           7.216   2.353\n",
       "grc             3.964   2.499\n",
       "grc97           3.705   2.572\n",
       "hohage         44.437  11.620\n",
       "hohedu          2.768   2.656\n",
       "hohsex          0.925   0.263\n",
       "hohwag        586.985 788.134\n",
       "indig           0.298   0.458\n",
       "min_dist      103.448  42.089\n",
       "sc              0.820   0.384\n",
       "sc97            0.814   0.389\n",
       "sex             0.512   0.500\n",
       "welfare_index 690.347 139.491"
      ]
     },
     "execution_count": 225,
     "metadata": {},
     "output_type": "execute_result"
    }
   ],
   "source": [
    "import os \n",
    "import pandas as pd\n",
    "pd.set_option('display.max_columns',0)\n",
    "\n",
    "path = os.getcwd()\n",
    "progresa = pd.read_csv(path+'/progresa_sample.csv', sep=',')\n",
    "demo_vars = ['sex', 'indig', 'dist_sec', 'sc', 'grc', 'fam_n', 'min_dist',\n",
    "       'dist_cap', 'poor', 'progresa', 'hohedu', 'hohwag', 'welfare_index',\n",
    "       'hohsex', 'hohage', 'age', 'grc97', 'sc97']\n",
    "avgs = progresa[demo_vars].mean()\n",
    "std = progresa[demo_vars].std()\n",
    "progressa_descr = pd.concat([avgs, std], axis=1)\n",
    "progressa_descr.columns = ['mean', 'std']\n",
    "progressa_descr.sort_index(inplace=True)\n",
    "progressa_descr"
   ]
  },
  {
   "cell_type": "markdown",
   "metadata": {},
   "source": [
    "### 1.2 Differences at baseline?\n",
    "\n",
    "Are the baseline (1997) demographic characteristics **for the poor**  different in treatment and control villages? Hint: Use a T-Test to determine whether there is a statistically significant difference in the average values of each of the variables in the dataset. Focus only on the data from 1997 for individuals who are poor (i.e., poor=='pobre').\n",
    "\n",
    "Present your results in a single table with the following columns and 14 (or so) rows (alphabetized by variable name):\n",
    "\n",
    "| Variable name | Average value (Treatment villages) | Average value (Control villages) | Difference (Treat - Control) | p-value |\n",
    "|------|------|------|------|------|\n",
    "|Male|?|?|?|?|\n"
   ]
  },
  {
   "cell_type": "code",
   "execution_count": 226,
   "metadata": {},
   "outputs": [
    {
     "data": {
      "text/html": [
       "<div>\n",
       "<style>\n",
       "    .dataframe thead tr:only-child th {\n",
       "        text-align: right;\n",
       "    }\n",
       "\n",
       "    .dataframe thead th {\n",
       "        text-align: left;\n",
       "    }\n",
       "\n",
       "    .dataframe tbody tr th {\n",
       "        vertical-align: top;\n",
       "    }\n",
       "</style>\n",
       "<table border=\"1\" class=\"dataframe\">\n",
       "  <thead>\n",
       "    <tr style=\"text-align: right;\">\n",
       "      <th></th>\n",
       "      <th>Variable name</th>\n",
       "      <th>Average value (Treatment villages)</th>\n",
       "      <th>Average value (Control villages)</th>\n",
       "      <th>Difference (Treat - Control)</th>\n",
       "      <th>p-value</th>\n",
       "    </tr>\n",
       "  </thead>\n",
       "  <tbody>\n",
       "    <tr>\n",
       "      <th>0</th>\n",
       "      <td>age</td>\n",
       "      <td>10.786</td>\n",
       "      <td>10.744</td>\n",
       "      <td>-0.042</td>\n",
       "      <td>0.248</td>\n",
       "    </tr>\n",
       "    <tr>\n",
       "      <th>1</th>\n",
       "      <td>dist_cap</td>\n",
       "      <td>154.492</td>\n",
       "      <td>151.801</td>\n",
       "      <td>-2.691</td>\n",
       "      <td>0.003</td>\n",
       "    </tr>\n",
       "    <tr>\n",
       "      <th>2</th>\n",
       "      <td>dist_sec</td>\n",
       "      <td>2.401</td>\n",
       "      <td>2.400</td>\n",
       "      <td>-0.001</td>\n",
       "      <td>0.967</td>\n",
       "    </tr>\n",
       "    <tr>\n",
       "      <th>3</th>\n",
       "      <td>fam_n</td>\n",
       "      <td>7.303</td>\n",
       "      <td>7.281</td>\n",
       "      <td>-0.022</td>\n",
       "      <td>0.424</td>\n",
       "    </tr>\n",
       "    <tr>\n",
       "      <th>4</th>\n",
       "      <td>folnum</td>\n",
       "      <td>19327.970</td>\n",
       "      <td>19447.379</td>\n",
       "      <td>119.409</td>\n",
       "      <td>0.000</td>\n",
       "    </tr>\n",
       "    <tr>\n",
       "      <th>5</th>\n",
       "      <td>grc</td>\n",
       "      <td>3.734</td>\n",
       "      <td>3.709</td>\n",
       "      <td>-0.024</td>\n",
       "      <td>0.395</td>\n",
       "    </tr>\n",
       "    <tr>\n",
       "      <th>6</th>\n",
       "      <td>grc97</td>\n",
       "      <td>3.734</td>\n",
       "      <td>3.709</td>\n",
       "      <td>-0.024</td>\n",
       "      <td>0.395</td>\n",
       "    </tr>\n",
       "    <tr>\n",
       "      <th>7</th>\n",
       "      <td>hohage</td>\n",
       "      <td>44.271</td>\n",
       "      <td>43.631</td>\n",
       "      <td>-0.639</td>\n",
       "      <td>0.000</td>\n",
       "    </tr>\n",
       "    <tr>\n",
       "      <th>8</th>\n",
       "      <td>hohedu</td>\n",
       "      <td>2.661</td>\n",
       "      <td>2.727</td>\n",
       "      <td>0.066</td>\n",
       "      <td>0.026</td>\n",
       "    </tr>\n",
       "    <tr>\n",
       "      <th>9</th>\n",
       "      <td>hohsex</td>\n",
       "      <td>0.923</td>\n",
       "      <td>0.926</td>\n",
       "      <td>0.002</td>\n",
       "      <td>0.478</td>\n",
       "    </tr>\n",
       "    <tr>\n",
       "      <th>10</th>\n",
       "      <td>hohwag</td>\n",
       "      <td>580.694</td>\n",
       "      <td>550.207</td>\n",
       "      <td>-30.487</td>\n",
       "      <td>0.000</td>\n",
       "    </tr>\n",
       "    <tr>\n",
       "      <th>11</th>\n",
       "      <td>indig</td>\n",
       "      <td>0.325</td>\n",
       "      <td>0.317</td>\n",
       "      <td>-0.009</td>\n",
       "      <td>0.118</td>\n",
       "    </tr>\n",
       "    <tr>\n",
       "      <th>12</th>\n",
       "      <td>min_dist</td>\n",
       "      <td>103.098</td>\n",
       "      <td>107.395</td>\n",
       "      <td>4.297</td>\n",
       "      <td>0.000</td>\n",
       "    </tr>\n",
       "    <tr>\n",
       "      <th>13</th>\n",
       "      <td>sc</td>\n",
       "      <td>0.815</td>\n",
       "      <td>0.823</td>\n",
       "      <td>0.008</td>\n",
       "      <td>0.091</td>\n",
       "    </tr>\n",
       "    <tr>\n",
       "      <th>14</th>\n",
       "      <td>sc97</td>\n",
       "      <td>0.815</td>\n",
       "      <td>0.823</td>\n",
       "      <td>0.008</td>\n",
       "      <td>0.091</td>\n",
       "    </tr>\n",
       "    <tr>\n",
       "      <th>15</th>\n",
       "      <td>sex</td>\n",
       "      <td>0.507</td>\n",
       "      <td>0.520</td>\n",
       "      <td>0.014</td>\n",
       "      <td>0.020</td>\n",
       "    </tr>\n",
       "    <tr>\n",
       "      <th>16</th>\n",
       "      <td>village</td>\n",
       "      <td>289.079</td>\n",
       "      <td>236.521</td>\n",
       "      <td>-52.558</td>\n",
       "      <td>0.000</td>\n",
       "    </tr>\n",
       "    <tr>\n",
       "      <th>17</th>\n",
       "      <td>welfare_index</td>\n",
       "      <td>661.594</td>\n",
       "      <td>656.810</td>\n",
       "      <td>-4.783</td>\n",
       "      <td>0.000</td>\n",
       "    </tr>\n",
       "  </tbody>\n",
       "</table>\n",
       "</div>"
      ],
      "text/plain": [
       "    Variable name Average value (Treatment villages) Average value (Control villages) Difference (Treat - Control)  p-value\n",
       "0             age                             10.786                           10.744                       -0.042    0.248\n",
       "1        dist_cap                            154.492                          151.801                       -2.691    0.003\n",
       "2        dist_sec                              2.401                            2.400                       -0.001    0.967\n",
       "3           fam_n                              7.303                            7.281                       -0.022    0.424\n",
       "4          folnum                          19327.970                        19447.379                      119.409    0.000\n",
       "5             grc                              3.734                            3.709                       -0.024    0.395\n",
       "6           grc97                              3.734                            3.709                       -0.024    0.395\n",
       "7          hohage                             44.271                           43.631                       -0.639    0.000\n",
       "8          hohedu                              2.661                            2.727                        0.066    0.026\n",
       "9          hohsex                              0.923                            0.926                        0.002    0.478\n",
       "10         hohwag                            580.694                          550.207                      -30.487    0.000\n",
       "11          indig                              0.325                            0.317                       -0.009    0.118\n",
       "12       min_dist                            103.098                          107.395                        4.297    0.000\n",
       "13             sc                              0.815                            0.823                        0.008    0.091\n",
       "14           sc97                              0.815                            0.823                        0.008    0.091\n",
       "15            sex                              0.507                            0.520                        0.014    0.020\n",
       "16        village                            289.079                          236.521                      -52.558    0.000\n",
       "17  welfare_index                            661.594                          656.810                       -4.783    0.000"
      ]
     },
     "execution_count": 226,
     "metadata": {},
     "output_type": "execute_result"
    }
   ],
   "source": [
    "import scipy.stats as stats\n",
    "pd.set_option('display.float_format', lambda x: '%.3f' % x)\n",
    "\n",
    "progresa.dropna(axis=0, inplace=True)\n",
    "demo_vars = ['sex', 'indig', 'dist_sec', 'sc', 'grc', 'fam_n', 'min_dist',\n",
    "       'dist_cap', 'hohedu', 'hohwag', 'welfare_index',\n",
    "       'hohsex', 'hohage', 'age', 'grc97', 'sc97']\n",
    "\n",
    "progresa_pobre97 = progresa[(progresa['year']==97) & (progresa['poor']=='pobre')]\n",
    "progresa_pobre97_cntrl = progresa_pobre97[progresa_pobre97['progresa']=='0']\n",
    "progresa_pobre97_treat = progresa_pobre97[progresa_pobre97['progresa']=='basal']\n",
    "\n",
    "demog_means = progresa_pobre97.groupby(['progresa']).mean().reset_index().transpose()\n",
    "demog_means.columns = ['control', 'treatment']\n",
    "demog_means.drop(['year','progresa'], inplace=True)\n",
    "demog_means['diff'] = demog_means['treatment'] - demog_means['control']\n",
    "demog_means['p'] = 0.0\n",
    "\n",
    "for var in demo_vars:\n",
    "    t, p =stats.ttest_ind(progresa_pobre97_cntrl[var], progresa_pobre97_treat[var], equal_var=True)\n",
    "    demog_means.loc[var, 'p'] = p \n",
    "\n",
    "# demog_means = demog_means.reset_index()\n",
    "demog_means = demog_means.sort_index().reset_index()\n",
    "demog_means.columns = ['Variable name', 'Average value (Treatment villages)', 'Average value (Control villages)', \n",
    "                      'Difference (Treat - Control)', 'p-value']\n",
    "demog_means"
   ]
  },
  {
   "cell_type": "markdown",
   "metadata": {},
   "source": [
    "### 1.3 Interpretation\n",
    "\n",
    "* A: Are there statistically significant differences between treatment and control villages as baseline? \n",
    "* B: Why does it matter if there are differences at baseline?\n",
    "* C: What does this imply about how to measure the impact of the treatment?"
   ]
  },
  {
   "cell_type": "markdown",
   "metadata": {},
   "source": [
    "**QA** : Yes with a p-value of 0.05 we find that nine of the demographic variables show a statistical difference between treatment villages and control villages at the baseline before treatment is applied.\n",
    "\n",
    "**QB** : These differences matter because if they exist before treatment, then they may play a role in whether or not the child is enrolled in school. Therefore we cannot confidentally say that it is the intervention of Progresa which is affecting school enrollment and not extraneous factors.\n",
    "\n",
    "**QC** : To measure the impact of the treatment effectively, we should take into consideration these factors which currently are showing stastical differences as a control variables by using regression to look at treatment effects of Progresa"
   ]
  },
  {
   "cell_type": "markdown",
   "metadata": {},
   "source": [
    "### 1.4 Graphical exploration, part 1\n",
    "\n",
    "For each level of household head education, compute the average enrollment rate in 1997. Create a scatterplot that shows this relationship. What do you notice?"
   ]
  },
  {
   "cell_type": "code",
   "execution_count": 227,
   "metadata": {},
   "outputs": [
    {
     "data": {
      "image/png": "[encoded data removed]",
      "text/plain": [
       "<matplotlib.figure.Figure at 0x11d777a90>"
      ]
     },
     "metadata": {},
     "output_type": "display_data"
    }
   ],
   "source": [
    "from matplotlib import pyplot as plt\n",
    "\n",
    "progresa_97 = progresa[progresa['year']==97] \n",
    "hohedu97_enrollment = progresa_97.groupby('hohedu').mean()['sc'].reset_index(name='sc')\n",
    "                                   \n",
    "fig = plt.figure(figsize=(7,5))\n",
    "ax = fig.gca()\n",
    "plt.style.use('ggplot')\n",
    "ax.grid(color='lightgray', linestyle='-', linewidth=1)\n",
    "fig.suptitle('Average School Enrollment Rates and \\n Years of Education by the Head of Household', fontsize = 20)\n",
    "\n",
    "ax.scatter(hohedu97_enrollment['hohedu'], hohedu97_enrollment['sc'], color='green', s=20)\n",
    "\n",
    "ax.set_facecolor('white')\n",
    "plt.xlabel('Years of Education by Head of Household', fontsize=15)\n",
    "plt.ylabel('Enrollment Rate (percent)', fontsize=15)\n",
    "plt.tick_params(axis='both', which='major', labelsize=15)\n",
    "plt.subplots_adjust(bottom = None, top = 0.8)\n",
    "plt.show()"
   ]
  },
  {
   "cell_type": "markdown",
   "metadata": {},
   "source": [
    "This scatter plot shows that generally as the amount of education the head of households has, the more likely they are to enroll their children in school. There is a drop off for those heads of household who have 20 years of education. This is most likely because there were only two children whose heads of houses had 20 years of education. \n",
    "\n",
    "We do see a sharp drop around households with 10 and 14 years of education. It's hard to tell why this could have occurred. One hypothesis worth looking into is that this could be because there is a divide between those who successfully finish highed school or college and those who dropped out half way. Drop outs which occur right before graduating may not send their children on to pursue education because they themselves did not finish. However, for households who go on to complete these higher educations do continue to send their children on to school."
   ]
  },
  {
   "cell_type": "markdown",
   "metadata": {},
   "source": [
    "### 1.5 Graphical exploration, part 2\n",
    "\n",
    "Visualize the distribution of village enrollment rates **among poor households in treated villages**, before and after treatment. Specifically, for each village, calculate the average rate of enrollment of poor households in treated villages in 1997, then compute the average rate of enrollment of poor households in treated villages in 1998. Create two separate histograms showing the distribution of these average enrollments rates, one histogram for 1997 and one histogram for 1998. On each histogram, draw a vertical line that intersects the x-axis at the average value (across all households). Does there appear to be a difference? Is this difference statistically significant?"
   ]
  },
  {
   "cell_type": "code",
   "execution_count": 511,
   "metadata": {},
   "outputs": [
    {
     "name": "stdout",
     "output_type": "stream",
     "text": [
      "Average rate of enrollment for poor households in the treatment group before treatment in 1997: 0.822696523152761\n",
      "Average rate of enrollment for poor households in the treatment group after treatment in 1998: 0.849257030578411\n"
     ]
    },
    {
     "data": {
      "image/png": "[encoded data removed]",
      "text/plain": [
       "<matplotlib.figure.Figure at 0x12b150ef0>"
      ]
     },
     "metadata": {},
     "output_type": "display_data"
    }
   ],
   "source": [
    "# prepare IPython to work with matplotlib and import the library to something convenient\n",
    "# %matplotlib inline  \n",
    "import matplotlib.pyplot as plt  \n",
    "from matplotlib import gridspec\n",
    "\n",
    "pobre97_sc_village = progresa_pobre97_treat.groupby('village').mean()['sc'].reset_index(name='sc')\n",
    "\n",
    "progresa_pobre98 = progresa[(progresa['year']==98) & (progresa['poor']=='pobre')]\n",
    "progresa_pobre98_treat = progresa_pobre98[progresa_pobre98['progresa']=='basal']\n",
    "pobre98_sc_village = progresa_pobre98_treat.groupby('village').mean()['sc'].reset_index(name='sc')\n",
    "\n",
    "print('Average rate of enrollment for poor households in the treatment group before treatment in 1997:', progresa_pobre97_treat['sc'].mean())\n",
    "print('Average rate of enrollment for poor households in the treatment group after treatment in 1998:', progresa_pobre98_treat['sc'].mean()\n",
    "     )\n",
    "# Make a combined graph of 1997 and 1998 data\n",
    "bins = 50\n",
    "\n",
    "fig = plt.figure(figsize=(15,5))\n",
    "fig.suptitle('Average School Enrollment by Village \\n'\n",
    "            'for Poor Households in 1997 before treatment', fontsize = 20)\n",
    "\n",
    "# 1997 Histogram\n",
    "gs = gridspec.GridSpec(1, 2, width_ratios=[1,1], height_ratios=[1])\n",
    "ax0 = plt.subplot(gs[0])\n",
    "plt.style.use('ggplot')\n",
    "ax0.grid(color='lightgray', linestyle='-', linewidth=1)\n",
    "ax0.set_title('1997: Pre-treatment', fontsize=15)\n",
    "\n",
    "ax0.hist(pobre97_sc_village['sc'], bins, facecolor='darkblue')\n",
    "ax0.axvline(x=progresa_pobre97_treat['sc'].mean(), color='r', linestyle='-')\n",
    "\n",
    "ax0.set_facecolor('white')\n",
    "plt.xlabel('Rate of Enrollment', fontsize=15)\n",
    "plt.ylabel('Number of Villages', fontsize=15)\n",
    "plt.tick_params(axis='both', which='major', labelsize=15)\n",
    "plt.subplots_adjust(bottom = None, top = 0.8)\n",
    "\n",
    "# 1998 Histogram\n",
    "gs = gridspec.GridSpec(1, 2, width_ratios=[1,1], height_ratios=[1])\n",
    "ax1 = plt.subplot(gs[1])\n",
    "plt.style.use('ggplot')\n",
    "ax1.grid(color='lightgray', linestyle='-', linewidth=1)\n",
    "ax1.set_title('1998: Post-treatment', fontsize=15)\n",
    "\n",
    "ax1.hist(pobre98_sc_village['sc'], bins, facecolor='darkblue')\n",
    "ax1.axvline(x=progresa_pobre98_treat['sc'].mean(), color='r', linestyle='-')\n",
    "\n",
    "ax1.set_facecolor('white')\n",
    "plt.xlabel('Rate of Enrollment', fontsize=15)\n",
    "plt.ylabel('Number of Villages', fontsize=15)\n",
    "plt.tick_params(axis='both', which='major', labelsize=15)\n",
    "plt.subplots_adjust(bottom = None, top = 0.75)\n",
    "\n",
    "plt.show()\n",
    "    "
   ]
  },
  {
   "cell_type": "code",
   "execution_count": 519,
   "metadata": {
    "scrolled": true
   },
   "outputs": [
    {
     "name": "stdout",
     "output_type": "stream",
     "text": [
      "T-test results comparing poor villages in the treatment group before and after treatment report a T-value of -2.5636087966 and p= 0.0105877397216\n"
     ]
    }
   ],
   "source": [
    "t, p =stats.ttest_ind(pobre97_sc_village['sc'], pobre98_sc_village['sc'], equal_var=True)\n",
    "print('T-test results comparing poor villages in the treatment group before and after treatment report a T-value of',\n",
    "     t, 'and p=', p)"
   ]
  },
  {
   "cell_type": "markdown",
   "metadata": {},
   "source": [
    "A qualitatively assessment of the histograms of villages pre-treatment and post-treatment seems to show that there is a positive shift of the mean resulting in a left-skew graph.\n",
    "\n",
    "A quantitative assesment using a t-test results in a p-value of ~0.01 signifying that with repeated experimention, there is an approximately 1% chance of finding a positive 2.7% shift in enrollment equal to the one observed in this experiment. Therefore we can confidentally say that, yes, there was a different in enrollment statistics for these poor villages. However, nothing can be said about if Progresa resulted in this difference or if is a trend that occured naturally between 1997 and 1998."
   ]
  },
  {
   "cell_type": "markdown",
   "metadata": {},
   "source": [
    "## Part 2: Measuring Impact\n",
    "\n",
    "Our goal is to estimate the causal impact of the PROGRESA program on the social and economic outcomes of individuals in Mexico. We will focus on the impact of the program on the poor (those with poor=='pobre'), since only the poor were eligible to receive the PROGRESA assistance.\n",
    "\n",
    "### 2.1 Simple differences: T-test\n",
    "\n",
    "Begin by estimating the impact of Progresa using \"simple differences.\" Restricting yourself to data from 1998 (after treatment), calculate the average enrollment rate among **poor** households in the Treatment villages and the average enrollment rate among **poor** households in the control villages. Use a t-test to determine if this difference is statistically significant. What do you conclude?"
   ]
  },
  {
   "cell_type": "code",
   "execution_count": 394,
   "metadata": {
    "scrolled": true
   },
   "outputs": [
    {
     "name": "stdout",
     "output_type": "stream",
     "text": [
      "Average rate of enrollment for poor households in the treatment group after Progresa in 1998: 0.849257030578411\n",
      "Average rate of enrollment for poor households in the control group in 1998: 0.810923092511906\n",
      "This is an average difference of enrollment between treatment and control vilages of 0.03833393806650498 %\n",
      "\n",
      "\n",
      "T-test results comparing poor villages in the treatment group before and after treatment report a T-value of 8.1016503053 and  p= 5.65645560536e-16\n"
     ]
    }
   ],
   "source": [
    "import scipy.stats as stats\n",
    "progresa = pd.read_csv(path+'/progresa_sample.csv', sep=',')\n",
    "progresa.dropna(axis=0, inplace=True)\n",
    "\n",
    "progresa_pobre98 = progresa[(progresa['year']==98) & (progresa['poor']=='pobre')]\n",
    "progresa_pobre98_treat = progresa_pobre98[progresa_pobre98['progresa']=='basal']\n",
    "progresa_pobre98_control = progresa_pobre98[progresa_pobre98['progresa']=='0']\n",
    "\n",
    "print('Average rate of enrollment for poor households in the treatment group after Progresa in 1998:', progresa_pobre98_treat['sc'].mean())\n",
    "print('Average rate of enrollment for poor households in the control group in 1998:', progresa_pobre98_control['sc'].mean())\n",
    "print('This is an average difference of enrollment between treatment and control vilages of',\n",
    "     progresa_pobre98_treat['sc'].mean()-progresa_pobre98_control['sc'].mean(),'%')\n",
    "\n",
    "print('\\n')\n",
    "t, p =stats.ttest_ind(progresa_pobre98_treat['sc'], progresa_pobre98_control['sc'], equal_var=True)\n",
    "print('T-test results comparing poor villages in the treatment group before and after treatment report a T-value of',\n",
    "     t, 'and  p=', p)\n"
   ]
  },
  {
   "cell_type": "markdown",
   "metadata": {},
   "source": [
    "Results of the t-test between control villages in 1998 and the post-treatment villages show that there is a statistically significant different of p << 0.001.\n",
    "\n",
    "From this analysis we show that between the control villages and treatment villages, it appears that Progresa may have had a positive effect on enrollment rate with its implementation. An even better analysis would be to compare the treatment villages before treatment to the control villages before treatment and make sure that they do not statistically differ from each other."
   ]
  },
  {
   "cell_type": "markdown",
   "metadata": {},
   "source": [
    "### 2.2 Simple differences: Regression\n",
    "\n",
    "Estimate the effects of Progresa on enrollment using a regression model, by regressing the 1998 enrollment rates **of the poor** on treatment assignment. For now, do not include any other variables in your regression. Discuss the following:\n",
    "\n",
    "* Based on this model, how much did Progresa increase or decrease the likelihood of a child enrolling? Make sure you express you answer in a sentence that your grandmother could understand, using appropriate units.\n",
    "* How does your regression estimate compare to your t-test estimate from part 2.1?\n",
    "* Based on this regression model, can we reject the null hypothesis that the treatment effects are zero? \n",
    "* What is the counterfactual assumption underlying this regression?"
   ]
  },
  {
   "cell_type": "code",
   "execution_count": 415,
   "metadata": {},
   "outputs": [
    {
     "name": "stdout",
     "output_type": "stream",
     "text": [
      "                            OLS Regression Results                            \n",
      "==============================================================================\n",
      "Dep. Variable:                     sc   R-squared:                       0.003\n",
      "Model:                            OLS   Adj. R-squared:                  0.002\n",
      "Method:                 Least Squares   F-statistic:                     65.64\n",
      "Date:                Sun, 17 Sep 2017   Prob (F-statistic):           5.66e-16\n",
      "Time:                        17:36:13   Log-Likelihood:                -11171.\n",
      "No. Observations:               26155   AIC:                         2.235e+04\n",
      "Df Residuals:                   26153   BIC:                         2.236e+04\n",
      "Df Model:                           1                                         \n",
      "Covariance Type:            nonrobust                                         \n",
      "=====================================================================================\n",
      "                        coef    std err          t      P>|t|      [0.025      0.975]\n",
      "-------------------------------------------------------------------------------------\n",
      "Intercept             0.8109      0.004    217.190      0.000       0.804       0.818\n",
      "progresa[T.basal]     0.0383      0.005      8.102      0.000       0.029       0.048\n",
      "==============================================================================\n",
      "Omnibus:                     7487.800   Durbin-Watson:                   1.734\n",
      "Prob(Omnibus):                  0.000   Jarque-Bera (JB):            15756.374\n",
      "Skew:                          -1.796   Prob(JB):                         0.00\n",
      "Kurtosis:                       4.245   Cond. No.                         3.02\n",
      "==============================================================================\n",
      "\n",
      "Warnings:\n",
      "[1] Standard Errors assume that the covariance matrix of the errors is correctly specified.\n"
     ]
    }
   ],
   "source": [
    "import statsmodels.formula.api as smf\n",
    "pd.options.mode.chained_assignment = None \n",
    "progresa = pd.read_csv(path+'/progresa_sample.csv', sep=',')\n",
    "progresa.dropna(axis=0, inplace=True)\n",
    "\n",
    "progresa_pobre98 = progresa[(progresa['year']==98) & (progresa['poor']=='pobre')]\n",
    "\n",
    "progresa_pobre98_model = smf.ols(formula='sc ~ progresa', data = progresa_pobre98).fit()\n",
    "print(progresa_pobre98_model.summary())"
   ]
  },
  {
   "cell_type": "markdown",
   "metadata": {},
   "source": [
    "* Based on this model, how much did Progresa increase or decrease the likelihood of a child enrolling? Make sure you express you answer in a sentence that your grandmother could understand, using appropriate units.\n",
    "    - Progresa increased the likilhood of a child enrolling in school by 3.8%\n",
    "* How does your regression estimate compare to your t-test estimate from part 2.1?\n",
    "    - This regression estimate is the same as the one found from 2.1. This is expected because we are testing the same set of data, which is treatment vs control villages during 1998 after the intervention of Progresa\n",
    "* Based on this regression model, can we reject the null hypothesis that the treatment effects are zero? \n",
    "    - No, from our very first t-test performed across demographic variables in villages pre and post treatment, we noticed that some of these metrics were stastically significant. Therefore it is advisable to use a regression to control for these variables.\n",
    "* What is the counterfactual assumption underlying this regression?\n",
    "    - The counterfactual assumption is that the enrollment rate of the treatment villages with Progresa  intervention in 1998 would be equal to the control villages' enrollment rates in 1998."
   ]
  },
  {
   "cell_type": "markdown",
   "metadata": {},
   "source": [
    "### 2.3 Multiple Regression\n",
    "\n",
    "Re-run the above regression estimated but this time include a set of control variables. Include, for instance, age, distance to a secondary school, gender, education of household head, welfare index, indigenous, etc.\n",
    "\n",
    "* How do the controls affect the point estimate of treatment effect?\n",
    "* How do the controls affect the standard error on the treatment effect? \n",
    "* How do you interpret the differences (or similarities) between your estimates of 2.2 and 2.3?"
   ]
  },
  {
   "cell_type": "code",
   "execution_count": 459,
   "metadata": {},
   "outputs": [
    {
     "name": "stdout",
     "output_type": "stream",
     "text": [
      "                            OLS Regression Results                            \n",
      "==============================================================================\n",
      "Dep. Variable:                     sc   R-squared:                       0.026\n",
      "Model:                            OLS   Adj. R-squared:                  0.026\n",
      "Method:                 Least Squares   F-statistic:                     176.0\n",
      "Date:                Sun, 17 Sep 2017   Prob (F-statistic):          4.41e-149\n",
      "Time:                        18:31:29   Log-Likelihood:                -10857.\n",
      "No. Observations:               26155   AIC:                         2.172e+04\n",
      "Df Residuals:                   26150   BIC:                         2.176e+04\n",
      "Df Model:                           4                                         \n",
      "Covariance Type:            nonrobust                                         \n",
      "=====================================================================================\n",
      "                        coef    std err          t      P>|t|      [0.025      0.975]\n",
      "-------------------------------------------------------------------------------------\n",
      "Intercept             0.8306      0.012     69.546      0.000       0.807       0.854\n",
      "progresa[T.basal]     0.0369      0.005      7.896      0.000       0.028       0.046\n",
      "hohage               -0.0025      0.000    -11.615      0.000      -0.003      -0.002\n",
      "hohedu                0.0108      0.001     11.015      0.000       0.009       0.013\n",
      "dist_cap              0.0004    2.9e-05     13.871      0.000       0.000       0.000\n",
      "==============================================================================\n",
      "Omnibus:                     7119.660   Durbin-Watson:                   1.755\n",
      "Prob(Omnibus):                  0.000   Jarque-Bera (JB):            14492.219\n",
      "Skew:                          -1.728   Prob(JB):                         0.00\n",
      "Kurtosis:                       4.166   Cond. No.                         940.\n",
      "==============================================================================\n",
      "\n",
      "Warnings:\n",
      "[1] Standard Errors assume that the covariance matrix of the errors is correctly specified.\n"
     ]
    }
   ],
   "source": [
    "progresa_pobre98_model2 = smf.ols(formula='sc ~ progresa + hohage + hohedu + dist_cap', data = progresa_pobre98).fit()\n",
    "print(progresa_pobre98_model2.summary())"
   ]
  },
  {
   "cell_type": "markdown",
   "metadata": {},
   "source": [
    "* How do the controls affect the point estimate of treatment effect?\n",
    "    - Adding controls raised the intercept value for average enrollment rate without Progresa intervention (83%). However, they reduced the effects Progresa had on increasing enrollment rate (3.7%)\n",
    "* How do the controls affect the standard error on the treatment effect? \n",
    "    - The standard error rate for the average affect of Progresa did not change as a result of adding control variables. (Although I would have expected it to decrease showing more accuracy with the introduction of control variables)\n",
    "* How do you interpret the differences (or similarities) between your estimates of 2.2 and 2.3?\n",
    "    - The intercept for baseline enrollment rate increased slightly. This is simply due to the addition of the control variables which will change the intercept value. The addition of control variables should decrease the effect of Progresa because the regression is taking these variables into account as outside forces that also affect enrollment rate. Since we do see this decrease, these control variables are responsible for at least some part of increasing enrollment rate. This is because I specifically chose control variables which I had noticed from Question 1.2 showed statistical differences between pre and post treatment. Theoretically if I had chosen control variables that were not significant, then I should see the effect from Progresa remain approximately the same."
   ]
  },
  {
   "cell_type": "markdown",
   "metadata": {},
   "source": [
    "### 2.4 Difference-in-Difference, version 1 (tabular)\n",
    "\n",
    "Thus far, we have computed the effects of Progresa by estimating the difference in 1998 enrollment rates across villages. An alternative approach would be to compute the treatment effect using a difference-in-differences framework.\n",
    "\n",
    "Begin by estimating the average treatment effects of the program for poor households using data from 1997 and 1998. Specifically, calculate the difference (between 1997 and 1998) in enrollment rates among poor households in treated villages; then compute the difference (between 1997 and 1998) in enrollment rates among poor households in control villages. The difference between these two differences is your estimate.\n",
    "\n",
    "* What is your estimate of the impact, and how does it compare to your earlier (simple difference) results?\n",
    "* What is the counterfactual assumption underlying this estimate? \n"
   ]
  },
  {
   "cell_type": "code",
   "execution_count": 534,
   "metadata": {},
   "outputs": [
    {
     "name": "stdout",
     "output_type": "stream",
     "text": [
      "The average difference in enrollment rates post-treatment in treatement villages is -0.02656050742564997\n",
      "The average difference in enrollment rates post-treatment in control villages is 0.004142465805002105\n",
      "The difference between treatment and control village changes in enrollment over this time period is 0.030702973230652075\n",
      "\n",
      "\n",
      "If we remove individuals who dropped out due to attrition the values are as follows:\n",
      "The average difference in enrollment rates post-treatment in treatement villages is 0.0228417045315\n",
      "The average difference in enrollment rates post-treatment in control villages is -0.0570473198906\n",
      "The difference between treatment and control village changes in enrollment over this time period is 0.0798890244221\n"
     ]
    }
   ],
   "source": [
    "progresa = pd.read_csv(path+'/progresa_sample.csv', sep=',')\n",
    "progresa.dropna(axis=0, inplace=True)\n",
    "\n",
    "progresa_pobre97 = progresa[(progresa['year']==97) & (progresa['poor']=='pobre')]\n",
    "progresa_pobre97_treat = progresa_pobre97[progresa_pobre97['progresa']=='basal']\n",
    "progresa_pobre97_cntrl = progresa_pobre97[progresa_pobre97['progresa']=='0']\n",
    "\n",
    "progresa_pobre98 = progresa[(progresa['year']==98) & (progresa['poor']=='pobre')]\n",
    "progresa_pobre98_treat = progresa_pobre98[progresa_pobre98['progresa']=='basal']\n",
    "progresa_pobre98_cntrl = progresa_pobre98[progresa_pobre98['progresa']=='0']\n",
    "\n",
    "tmp1 = progresa_pobre97_treat['sc'].mean() - progresa_pobre98_treat['sc'].mean()\n",
    "tmp2 = progresa_pobre97_cntrl['sc'].mean() - progresa_pobre98_cntrl['sc'].mean()\n",
    "\n",
    "print('The average difference in enrollment rates post-treatment in treatement villages is' , tmp1)\n",
    "print('The average difference in enrollment rates post-treatment in control villages is' , tmp2)\n",
    "print('The difference between treatment and control village changes in enrollment over this time period is', tmp2-tmp1)\n",
    "\n",
    "\n",
    "# Drop individuals who did not make it into 1998 survey\n",
    "treat_diff = pd.merge(progresa_pobre97_treat[['folnum', 'sc', 'progresa']], progresa_pobre98_treat[['folnum', 'sc', 'progresa']], on='folnum')\n",
    "treat_diff.columns = ['folnum', 'sc97', 'progresa97', 'sc98', 'progresa98']\n",
    "treat_diff['treat_diff'] = treat_diff['sc97']-treat_diff['sc98']\n",
    "# treat_diff_mean = treat_diff['sc97'].mean() - treat_diff['sc98'].mean()\n",
    "\n",
    "cntrl_diff = pd.merge(progresa_pobre97_cntrl[['folnum', 'sc', 'progresa']], progresa_pobre98_cntrl[['folnum', 'sc', 'progresa']], on='folnum')\n",
    "cntrl_diff.columns = ['folnum', 'sc98', 'progresa97', 'sc97', 'progresa98']\n",
    "cntrl_diff['treat_diff'] = cntrl_diff['sc97']-cntrl_diff['sc98']\n",
    "\n",
    "print('\\n')\n",
    "print('If we remove individuals who dropped out due to attrition the values are as follows:')\n",
    "print('The average difference in enrollment rates post-treatment in treatement villages is' ,treat_diff.mean()['treat_diff'])\n",
    "print('The average difference in enrollment rates post-treatment in control villages is' ,cntrl_diff.mean()['treat_diff'])\n",
    "print('The difference between treatment and control village changes in enrollment over this time period is', treat_diff.mean()['treat_diff']-cntrl_diff.mean()['treat_diff'])\n"
   ]
  },
  {
   "cell_type": "markdown",
   "metadata": {},
   "source": [
    "This analysis shows that there is an average increase of enrollment by 2.3%. The overall impact though with the difference-in-difference has an impact of 3% increase in enrollment. In comparison to our simple effects calculation, we saw an incrase of 3.83% between post-treatment control villages and post-treatment treatment villages. We can see from this difference-in-difference calculation that there was no change in enrollment in control villages during this time. Therefore we can say with confidence that the intent of the intervention was successful, which was to raise enrollment.\n",
    "\n",
    "If we remove individuals who dropped out due to attrition (around 3000 individuals) we can see that enrollment rates only increase 2% on average with Progressa seemingly. However, taken into account that the rate of control villages actually dropped by 5.7% we notice that overall Progresa appears to have made a 8% impact on enrollment which is even higher than if we had not accounted for individuals who dropped out.\n",
    "\n",
    "The counterfactual assumption is that without the intervention of Progresa (and not accounting for attrition), the treament villages in 1998 would also have seen on average no change in enrollment rates"
   ]
  },
  {
   "cell_type": "markdown",
   "metadata": {},
   "source": [
    "### 2.5 Difference-in-Difference, version 2 (regression)\n",
    "\n",
    "Now use a regression specification to estimate the average treatment effects of the program in a difference-in-differences framework. Include at least 5 control variables.\n",
    "\n",
    "* What is your estimate of the impact of Progresa? Be very specific in interpreting your coefficients and standard errors, and make sure to specify exactly what units you are measuring and estimating.\n",
    "* How do these estimates of the treatment effect compare to the estimates based on the simple difference?\n",
    "* How do these estimates compare to the difference-in-difference estimates from 2.4 above? What accounts for these differences?\n",
    "* What is the counterfactual assumption underlying this regression? "
   ]
  },
  {
   "cell_type": "code",
   "execution_count": 545,
   "metadata": {},
   "outputs": [
    {
     "name": "stdout",
     "output_type": "stream",
     "text": [
      "                            OLS Regression Results                            \n",
      "==============================================================================\n",
      "Dep. Variable:                     sc   R-squared:                       0.002\n",
      "Model:                            OLS   Adj. R-squared:                  0.001\n",
      "Method:                 Least Squares   F-statistic:                     29.42\n",
      "Date:                Sun, 17 Sep 2017   Prob (F-statistic):           5.32e-19\n",
      "Time:                        22:31:42   Log-Likelihood:                -25412.\n",
      "No. Observations:               56893   AIC:                         5.083e+04\n",
      "Df Residuals:                   56889   BIC:                         5.087e+04\n",
      "Df Model:                           3                                         \n",
      "Covariance Type:            nonrobust                                         \n",
      "=======================================================================================\n",
      "                          coef    std err          t      P>|t|      [0.025      0.975]\n",
      "---------------------------------------------------------------------------------------\n",
      "Intercept               0.8151      0.004    232.782      0.000       0.808       0.822\n",
      "progresa                0.0076      0.004      1.717      0.086      -0.001       0.016\n",
      "time_dummy             -0.0041      0.005     -0.801      0.423      -0.014       0.006\n",
      "progresa:time_dummy     0.0307      0.007      4.680      0.000       0.018       0.044\n",
      "==============================================================================\n",
      "Omnibus:                    15130.097   Durbin-Watson:                   1.392\n",
      "Prob(Omnibus):                  0.000   Jarque-Bera (JB):            30379.093\n",
      "Skew:                          -1.722   Prob(JB):                         0.00\n",
      "Kurtosis:                       3.976   Cond. No.                         7.63\n",
      "==============================================================================\n",
      "\n",
      "Warnings:\n",
      "[1] Standard Errors assume that the covariance matrix of the errors is correctly specified.\n"
     ]
    }
   ],
   "source": [
    "import numpy as np\n",
    "\n",
    "progresa = pd.read_csv(path+'/progresa_sample.csv', sep=',')\n",
    "progresa.dropna(axis=0, inplace=True)\n",
    "\n",
    "progresa_pobre = progresa[progresa['poor']=='pobre']\n",
    "# Create a dummy that has 1 for if in treatment group and in 1998 (post-treatment period)\n",
    "progresa_pobre['progresa'] = np.where(progresa_pobre['progresa']=='basal', 1, 0)\n",
    "progresa_pobre['time_dummy'] = np.where(progresa_pobre['year']==98, 1, 0)\n",
    "\n",
    "DiD_model = smf.ols(formula='sc ~ progresa + time_dummy + (progresa*time_dummy) + hohage + hohedu + dist_cap + min_dist + sex', data = progresa_pobre).fit()\n",
    "print(DiD_model.summary())"
   ]
  },
  {
   "cell_type": "markdown",
   "metadata": {},
   "source": [
    "* What is your estimate of the impact of Progresa? Be very specific in interpreting your coefficients and standard errors, and make sure to specify exactly what units you are measuring and estimating.\n",
    "    - Taking control variables into account, Progresa on average results in a 3.07% increase in enrollment after intervention with a standard erorr of 0.06%. This value is specifically looking only at the treatment group of poor villages from 1998 after treatment from the interaction term\n",
    "* How do these estimates of the treatment effect compare to the estimates based on the simple difference?\n",
    "    - Compared to the simple differences in regression, we see that the predicted average increase of enrollment in the difference-in-difference model is slightly lower. \n",
    "* How do these estimates compare to the difference-in-difference estimates from 2.4 above? What accounts for these differences?\n",
    "    - The estimated impact is approximately the same using a difference-in-difference with a regression. This is somewhat surprising because I would have expected that differences occur as a result of taking the control variables into account. As noted before, these variables are shown to differ between the pre and post treatment time variables, so we cannot ignore them as factors which may have influenced enrollment more than Progresa did.\n",
    "* What is the counterfactual assumption underlying this regression?\n",
    "    - Based on my data, the conterfactul assumption would be that there is no change in enrollment post-treatment of Progresa in the treatment villages. However, I think with variables which we saw that had statistical differences at baseline the true assumption is that without the effects of Progresa, we still would see a slight change in the enrollment rate simply due to the control variables being accounted for."
   ]
  },
  {
   "cell_type": "markdown",
   "metadata": {},
   "source": [
    "### 2.6 Spillover effects\n",
    "\n",
    "Thus far, we have focused on the impact of PROGRESA on poor households. Repeat your analysis in 2.5, instead focusing on the impact of PROGRESA on non-poor households. \n",
    "* Do you observe any impacts of PROGRESA on the non-poor?\n",
    "* Regardless of whether you find evidence of spillovers, describe one or two reasons why PROGRESA *might* have impacted non-poor households. Give concrete examples based on the context in which PROGRESA was implemented."
   ]
  },
  {
   "cell_type": "code",
   "execution_count": 518,
   "metadata": {},
   "outputs": [
    {
     "name": "stdout",
     "output_type": "stream",
     "text": [
      "                            OLS Regression Results                            \n",
      "==============================================================================\n",
      "Dep. Variable:                     sc   R-squared:                       0.040\n",
      "Model:                            OLS   Adj. R-squared:                  0.039\n",
      "Method:                 Least Squares   F-statistic:                     53.30\n",
      "Date:                Sun, 17 Sep 2017   Prob (F-statistic):           2.87e-85\n",
      "Time:                        20:40:17   Log-Likelihood:                -5117.6\n",
      "No. Observations:               10229   AIC:                         1.025e+04\n",
      "Df Residuals:                   10220   BIC:                         1.032e+04\n",
      "Df Model:                           8                                         \n",
      "Covariance Type:            nonrobust                                         \n",
      "=======================================================================================\n",
      "                          coef    std err          t      P>|t|      [0.025      0.975]\n",
      "---------------------------------------------------------------------------------------\n",
      "Intercept               0.7670      0.024     31.874      0.000       0.720       0.814\n",
      "progresa                0.0267      0.011      2.477      0.013       0.006       0.048\n",
      "time_dummy              0.0168      0.013      1.332      0.183      -0.008       0.042\n",
      "progresa:time_dummy    -0.0048      0.016     -0.295      0.768      -0.037       0.027\n",
      "hohage                 -0.0028      0.000     -7.294      0.000      -0.004      -0.002\n",
      "hohedu                  0.0137      0.001      9.851      0.000       0.011       0.016\n",
      "dist_cap                0.0006   8.73e-05      7.273      0.000       0.000       0.001\n",
      "min_dist            -3.927e-05      0.000     -0.289      0.772      -0.000       0.000\n",
      "sex                     0.0211      0.008      2.671      0.008       0.006       0.037\n",
      "==============================================================================\n",
      "Omnibus:                     1808.144   Durbin-Watson:                   1.487\n",
      "Prob(Omnibus):                  0.000   Jarque-Bera (JB):             2984.794\n",
      "Skew:                          -1.323   Prob(JB):                         0.00\n",
      "Kurtosis:                       2.962   Cond. No.                     1.13e+03\n",
      "==============================================================================\n",
      "\n",
      "Warnings:\n",
      "[1] Standard Errors assume that the covariance matrix of the errors is correctly specified.\n",
      "[2] The condition number is large, 1.13e+03. This might indicate that there are\n",
      "strong multicollinearity or other numerical problems.\n"
     ]
    }
   ],
   "source": [
    "import numpy as np\n",
    "\n",
    "progresa = pd.read_csv(path+'/progresa_sample.csv', sep=',')\n",
    "progresa.dropna(axis=0, inplace=True)\n",
    "\n",
    "progresa_nopobre = progresa[progresa['poor']=='no pobre']\n",
    "# Create a dummy that has 1 for if in treatment group and in 1998 (post-treatment period)\n",
    "progresa_nopobre['progresa'] = np.where((progresa_nopobre['progresa']=='basal'), 1, 0)\n",
    "progresa_nopobre['time_dummy'] = np.where(progresa_nopobre['year']==98, 1, 0)\n",
    "\n",
    "rich_DiD_model = smf.ols(formula='sc ~ progresa + time_dummy + (progresa*time_dummy) + hohage + hohedu + dist_cap + min_dist + sex', data = progresa_nopobre).fit()\n",
    "print(rich_DiD_model.summary())\n"
   ]
  },
  {
   "cell_type": "markdown",
   "metadata": {},
   "source": [
    "* Do you observe any impacts of PROGRESA on the non-poor?\n",
    "    - There is no effect of Progressa implementation. However, it seems like the random assignment of households to treatment groups shows that those in the treatment group were already more likely to be enrolled in school.\n",
    "* Regardless of whether you find evidence of spillovers, describe one or two reasons why PROGRESA *might* have impacted non-poor households. Give concrete examples based on the context in which PROGRESA was implemented.\n",
    "    - One impact is that by boosting poor households within the treatment villages, there is an increase in school enrollment in general that encourages more enrollment by richer households. Alternatively, increasing the enrollment of poor households may put off the non-poor enrolling in their schools and move their children to other districts."
   ]
  },
  {
   "cell_type": "markdown",
   "metadata": {},
   "source": [
    "### 2.7 Summary\n",
    "\n",
    "* Based on all the analysis you have undertaken to date, do you believe that Progresa had a causal impact on the enrollment rates of poor households in Mexico? \n",
    "\n",
    "* Describe one other way that you might analyze these data to further investigate the causal impact of Progresa on enrollment, and clearly state the counterfactual assumption you would need to make for that approach to be valid.  *(Hint: Consider using the non-poor in your analysis)*\n"
   ]
  },
  {
   "cell_type": "markdown",
   "metadata": {},
   "source": [
    "Yes, I do think Progresa had an effect on enrollment rates in poor households in Mexico. Through the various calculations including difference-in-difference and using regression to control for other variables, we still see that Progresa had a positive effect.\n",
    "    \n",
    "One other simple way to investigate Progresa is to compare the difference-in-difference of non-poor groups to the difference-in-difference poor groups. In this case we would like to see Progresa has greater impact on the poor groups than the rich. The counterfactual assumption needed for the non-poor groups is that without Progresa intervention the non-poor villages should show the same enrollment level as the control non-poor villages."
   ]
  },
  {
   "cell_type": "code",
   "execution_count": null,
   "metadata": {
    "collapsed": true
   },
   "outputs": [],
   "source": []
  }
 ],
 "metadata": {
  "anaconda-cloud": {},
  "kernelspec": {
   "display_name": "Python 3",
   "language": "python",
   "name": "python3"
  },
  "language_info": {
   "codemirror_mode": {
    "name": "ipython",
    "version": 3
   },
   "file_extension": ".py",
   "mimetype": "text/x-python",
   "name": "python",
   "nbconvert_exporter": "python",
   "pygments_lexer": "ipython3",
   "version": "3.6.1"
  }
 },
 "nbformat": 4,
 "nbformat_minor": 1
}
